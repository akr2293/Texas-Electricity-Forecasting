{
 "cells": [
  {
   "cell_type": "markdown",
   "metadata": {},
   "source": [
    "# Multivariate Time Series Model of Coal Generation"
   ]
  },
  {
   "cell_type": "code",
   "execution_count": 359,
   "metadata": {},
   "outputs": [],
   "source": [
    "import numpy as np\n",
    "import pandas as pd\n",
    "import matplotlib.pyplot as plt\n",
    "import itertools\n",
    "import seaborn as sns\n",
    "\n",
    "from datetime import datetime, timedelta\n",
    "\n",
    "%matplotlib inline\n",
    "from pandas.plotting import autocorrelation_plot\n",
    "from sklearn.model_selection import train_test_split\n",
    "from sklearn.preprocessing import StandardScaler\n",
    "\n",
    "\n",
    "from sklearn.metrics import r2_score, median_absolute_error, mean_absolute_error\n",
    "from sklearn.metrics import median_absolute_error, mean_squared_error, mean_squared_log_error\n",
    "\n",
    "from keras.models import Sequential\n",
    "from keras.layers import LSTM\n",
    "from keras.layers import Dense, Dropout\n",
    "\n",
    "import warnings\n",
    "warnings.simplefilter(action=\"ignore\")"
   ]
  },
  {
   "cell_type": "code",
   "execution_count": 360,
   "metadata": {},
   "outputs": [],
   "source": [
    "df = pd.read_csv('../../data/final_dfs/combined_final.csv')\n",
    "temp_df = pd.read_csv('../../data/temperature/texas_temp.csv')"
   ]
  },
  {
   "cell_type": "code",
   "execution_count": 361,
   "metadata": {},
   "outputs": [
    {
     "data": {
      "text/html": [
       "<div>\n",
       "<style scoped>\n",
       "    .dataframe tbody tr th:only-of-type {\n",
       "        vertical-align: middle;\n",
       "    }\n",
       "\n",
       "    .dataframe tbody tr th {\n",
       "        vertical-align: top;\n",
       "    }\n",
       "\n",
       "    .dataframe thead th {\n",
       "        text-align: right;\n",
       "    }\n",
       "</style>\n",
       "<table border=\"1\" class=\"dataframe\">\n",
       "  <thead>\n",
       "    <tr style=\"text-align: right;\">\n",
       "      <th></th>\n",
       "      <th>date</th>\n",
       "      <th>Biomass</th>\n",
       "      <th>Coal</th>\n",
       "      <th>Hydro</th>\n",
       "      <th>Nuclear</th>\n",
       "      <th>Other</th>\n",
       "      <th>Solar</th>\n",
       "      <th>Wind</th>\n",
       "      <th>NGas</th>\n",
       "    </tr>\n",
       "  </thead>\n",
       "  <tbody>\n",
       "    <tr>\n",
       "      <th>0</th>\n",
       "      <td>2011-01-01</td>\n",
       "      <td>1240.848016</td>\n",
       "      <td>304483.8981</td>\n",
       "      <td>670.712237</td>\n",
       "      <td>90516.91023</td>\n",
       "      <td>357.449324</td>\n",
       "      <td>70.651290</td>\n",
       "      <td>123213.38820</td>\n",
       "      <td>248086.36399</td>\n",
       "    </tr>\n",
       "    <tr>\n",
       "      <th>1</th>\n",
       "      <td>2011-01-02</td>\n",
       "      <td>1478.590690</td>\n",
       "      <td>320703.6726</td>\n",
       "      <td>667.009668</td>\n",
       "      <td>90462.21494</td>\n",
       "      <td>372.626928</td>\n",
       "      <td>10.255158</td>\n",
       "      <td>62531.39844</td>\n",
       "      <td>268971.64998</td>\n",
       "    </tr>\n",
       "    <tr>\n",
       "      <th>2</th>\n",
       "      <td>2011-01-03</td>\n",
       "      <td>1483.246127</td>\n",
       "      <td>296436.2237</td>\n",
       "      <td>741.426017</td>\n",
       "      <td>90472.37075</td>\n",
       "      <td>401.536782</td>\n",
       "      <td>15.155827</td>\n",
       "      <td>89515.57352</td>\n",
       "      <td>222285.00985</td>\n",
       "    </tr>\n",
       "    <tr>\n",
       "      <th>3</th>\n",
       "      <td>2011-01-04</td>\n",
       "      <td>1411.010006</td>\n",
       "      <td>322214.6377</td>\n",
       "      <td>683.281626</td>\n",
       "      <td>90312.68708</td>\n",
       "      <td>478.415477</td>\n",
       "      <td>5.278214</td>\n",
       "      <td>59542.48570</td>\n",
       "      <td>271747.93685</td>\n",
       "    </tr>\n",
       "    <tr>\n",
       "      <th>4</th>\n",
       "      <td>2011-01-05</td>\n",
       "      <td>1348.331266</td>\n",
       "      <td>308136.0801</td>\n",
       "      <td>623.145421</td>\n",
       "      <td>90280.19160</td>\n",
       "      <td>440.383112</td>\n",
       "      <td>22.997359</td>\n",
       "      <td>128920.84250</td>\n",
       "      <td>358001.80005</td>\n",
       "    </tr>\n",
       "  </tbody>\n",
       "</table>\n",
       "</div>"
      ],
      "text/plain": [
       "         date      Biomass         Coal       Hydro      Nuclear       Other  \\\n",
       "0  2011-01-01  1240.848016  304483.8981  670.712237  90516.91023  357.449324   \n",
       "1  2011-01-02  1478.590690  320703.6726  667.009668  90462.21494  372.626928   \n",
       "2  2011-01-03  1483.246127  296436.2237  741.426017  90472.37075  401.536782   \n",
       "3  2011-01-04  1411.010006  322214.6377  683.281626  90312.68708  478.415477   \n",
       "4  2011-01-05  1348.331266  308136.0801  623.145421  90280.19160  440.383112   \n",
       "\n",
       "       Solar          Wind          NGas  \n",
       "0  70.651290  123213.38820  248086.36399  \n",
       "1  10.255158   62531.39844  268971.64998  \n",
       "2  15.155827   89515.57352  222285.00985  \n",
       "3   5.278214   59542.48570  271747.93685  \n",
       "4  22.997359  128920.84250  358001.80005  "
      ]
     },
     "execution_count": 361,
     "metadata": {},
     "output_type": "execute_result"
    }
   ],
   "source": [
    "df.head()"
   ]
  },
  {
   "cell_type": "code",
   "execution_count": 362,
   "metadata": {},
   "outputs": [
    {
     "data": {
      "text/html": [
       "<div>\n",
       "<style scoped>\n",
       "    .dataframe tbody tr th:only-of-type {\n",
       "        vertical-align: middle;\n",
       "    }\n",
       "\n",
       "    .dataframe tbody tr th {\n",
       "        vertical-align: top;\n",
       "    }\n",
       "\n",
       "    .dataframe thead th {\n",
       "        text-align: right;\n",
       "    }\n",
       "</style>\n",
       "<table border=\"1\" class=\"dataframe\">\n",
       "  <thead>\n",
       "    <tr style=\"text-align: right;\">\n",
       "      <th></th>\n",
       "      <th>Date</th>\n",
       "      <th>Temp</th>\n",
       "    </tr>\n",
       "  </thead>\n",
       "  <tbody>\n",
       "    <tr>\n",
       "      <th>0</th>\n",
       "      <td>1/1/11</td>\n",
       "      <td>45.0</td>\n",
       "    </tr>\n",
       "    <tr>\n",
       "      <th>1</th>\n",
       "      <td>2/1/11</td>\n",
       "      <td>48.7</td>\n",
       "    </tr>\n",
       "    <tr>\n",
       "      <th>2</th>\n",
       "      <td>3/1/11</td>\n",
       "      <td>61.8</td>\n",
       "    </tr>\n",
       "    <tr>\n",
       "      <th>3</th>\n",
       "      <td>4/1/11</td>\n",
       "      <td>70.3</td>\n",
       "    </tr>\n",
       "    <tr>\n",
       "      <th>4</th>\n",
       "      <td>5/1/11</td>\n",
       "      <td>74.1</td>\n",
       "    </tr>\n",
       "  </tbody>\n",
       "</table>\n",
       "</div>"
      ],
      "text/plain": [
       "     Date  Temp\n",
       "0  1/1/11  45.0\n",
       "1  2/1/11  48.7\n",
       "2  3/1/11  61.8\n",
       "3  4/1/11  70.3\n",
       "4  5/1/11  74.1"
      ]
     },
     "execution_count": 362,
     "metadata": {},
     "output_type": "execute_result"
    }
   ],
   "source": [
    "temp_df.head()"
   ]
  },
  {
   "cell_type": "code",
   "execution_count": 363,
   "metadata": {},
   "outputs": [],
   "source": [
    "df = df[['date', 'NGas']]"
   ]
  },
  {
   "cell_type": "code",
   "execution_count": 364,
   "metadata": {},
   "outputs": [],
   "source": [
    "df['date']=pd.to_datetime(df['date'])"
   ]
  },
  {
   "cell_type": "code",
   "execution_count": 365,
   "metadata": {},
   "outputs": [],
   "source": [
    "df = df[df['date'].dt.day == 1]"
   ]
  },
  {
   "cell_type": "code",
   "execution_count": 366,
   "metadata": {},
   "outputs": [],
   "source": [
    "df.reset_index(inplace=True)"
   ]
  },
  {
   "cell_type": "code",
   "execution_count": 367,
   "metadata": {},
   "outputs": [],
   "source": [
    "df.drop(columns='index',inplace=True)"
   ]
  },
  {
   "cell_type": "code",
   "execution_count": 368,
   "metadata": {},
   "outputs": [],
   "source": [
    "df_full = pd.concat([df, temp_df], axis =1)"
   ]
  },
  {
   "cell_type": "code",
   "execution_count": 369,
   "metadata": {},
   "outputs": [
    {
     "data": {
      "text/html": [
       "<div>\n",
       "<style scoped>\n",
       "    .dataframe tbody tr th:only-of-type {\n",
       "        vertical-align: middle;\n",
       "    }\n",
       "\n",
       "    .dataframe tbody tr th {\n",
       "        vertical-align: top;\n",
       "    }\n",
       "\n",
       "    .dataframe thead th {\n",
       "        text-align: right;\n",
       "    }\n",
       "</style>\n",
       "<table border=\"1\" class=\"dataframe\">\n",
       "  <thead>\n",
       "    <tr style=\"text-align: right;\">\n",
       "      <th></th>\n",
       "      <th>date</th>\n",
       "      <th>NGas</th>\n",
       "      <th>Date</th>\n",
       "      <th>Temp</th>\n",
       "    </tr>\n",
       "  </thead>\n",
       "  <tbody>\n",
       "    <tr>\n",
       "      <th>0</th>\n",
       "      <td>2011-01-01</td>\n",
       "      <td>248086.363990</td>\n",
       "      <td>1/1/11</td>\n",
       "      <td>45.0</td>\n",
       "    </tr>\n",
       "    <tr>\n",
       "      <th>1</th>\n",
       "      <td>2011-02-01</td>\n",
       "      <td>218819.159530</td>\n",
       "      <td>2/1/11</td>\n",
       "      <td>48.7</td>\n",
       "    </tr>\n",
       "    <tr>\n",
       "      <th>2</th>\n",
       "      <td>2011-03-01</td>\n",
       "      <td>343441.973030</td>\n",
       "      <td>3/1/11</td>\n",
       "      <td>61.8</td>\n",
       "    </tr>\n",
       "    <tr>\n",
       "      <th>3</th>\n",
       "      <td>2011-04-01</td>\n",
       "      <td>202053.382820</td>\n",
       "      <td>4/1/11</td>\n",
       "      <td>70.3</td>\n",
       "    </tr>\n",
       "    <tr>\n",
       "      <th>4</th>\n",
       "      <td>2011-05-01</td>\n",
       "      <td>472446.061500</td>\n",
       "      <td>5/1/11</td>\n",
       "      <td>74.1</td>\n",
       "    </tr>\n",
       "    <tr>\n",
       "      <th>...</th>\n",
       "      <td>...</td>\n",
       "      <td>...</td>\n",
       "      <td>...</td>\n",
       "      <td>...</td>\n",
       "    </tr>\n",
       "    <tr>\n",
       "      <th>115</th>\n",
       "      <td>2020-08-01</td>\n",
       "      <td>721716.604984</td>\n",
       "      <td>8/1/20</td>\n",
       "      <td>84.3</td>\n",
       "    </tr>\n",
       "    <tr>\n",
       "      <th>116</th>\n",
       "      <td>2020-09-01</td>\n",
       "      <td>651271.628603</td>\n",
       "      <td>9/1/20</td>\n",
       "      <td>74.0</td>\n",
       "    </tr>\n",
       "    <tr>\n",
       "      <th>117</th>\n",
       "      <td>2020-10-01</td>\n",
       "      <td>445206.272739</td>\n",
       "      <td>10/1/20</td>\n",
       "      <td>65.9</td>\n",
       "    </tr>\n",
       "    <tr>\n",
       "      <th>118</th>\n",
       "      <td>2020-11-01</td>\n",
       "      <td>347772.901358</td>\n",
       "      <td>11/1/20</td>\n",
       "      <td>60.6</td>\n",
       "    </tr>\n",
       "    <tr>\n",
       "      <th>119</th>\n",
       "      <td>2020-12-01</td>\n",
       "      <td>325144.720938</td>\n",
       "      <td>12/1/20</td>\n",
       "      <td>48.4</td>\n",
       "    </tr>\n",
       "  </tbody>\n",
       "</table>\n",
       "<p>120 rows × 4 columns</p>\n",
       "</div>"
      ],
      "text/plain": [
       "          date           NGas     Date  Temp\n",
       "0   2011-01-01  248086.363990   1/1/11  45.0\n",
       "1   2011-02-01  218819.159530   2/1/11  48.7\n",
       "2   2011-03-01  343441.973030   3/1/11  61.8\n",
       "3   2011-04-01  202053.382820   4/1/11  70.3\n",
       "4   2011-05-01  472446.061500   5/1/11  74.1\n",
       "..         ...            ...      ...   ...\n",
       "115 2020-08-01  721716.604984   8/1/20  84.3\n",
       "116 2020-09-01  651271.628603   9/1/20  74.0\n",
       "117 2020-10-01  445206.272739  10/1/20  65.9\n",
       "118 2020-11-01  347772.901358  11/1/20  60.6\n",
       "119 2020-12-01  325144.720938  12/1/20  48.4\n",
       "\n",
       "[120 rows x 4 columns]"
      ]
     },
     "execution_count": 369,
     "metadata": {},
     "output_type": "execute_result"
    }
   ],
   "source": [
    "df_full"
   ]
  },
  {
   "cell_type": "code",
   "execution_count": 370,
   "metadata": {},
   "outputs": [],
   "source": [
    "train_dates = pd.to_datetime(df['date'])\n",
    "df_full.drop(columns='Date',inplace=True)\n",
    "#df_full.set_index('date', inplace=True)"
   ]
  },
  {
   "cell_type": "code",
   "execution_count": 371,
   "metadata": {},
   "outputs": [
    {
     "data": {
      "text/html": [
       "<div>\n",
       "<style scoped>\n",
       "    .dataframe tbody tr th:only-of-type {\n",
       "        vertical-align: middle;\n",
       "    }\n",
       "\n",
       "    .dataframe tbody tr th {\n",
       "        vertical-align: top;\n",
       "    }\n",
       "\n",
       "    .dataframe thead th {\n",
       "        text-align: right;\n",
       "    }\n",
       "</style>\n",
       "<table border=\"1\" class=\"dataframe\">\n",
       "  <thead>\n",
       "    <tr style=\"text-align: right;\">\n",
       "      <th></th>\n",
       "      <th>date</th>\n",
       "      <th>NGas</th>\n",
       "      <th>Temp</th>\n",
       "    </tr>\n",
       "  </thead>\n",
       "  <tbody>\n",
       "    <tr>\n",
       "      <th>0</th>\n",
       "      <td>2011-01-01</td>\n",
       "      <td>248086.363990</td>\n",
       "      <td>45.0</td>\n",
       "    </tr>\n",
       "    <tr>\n",
       "      <th>1</th>\n",
       "      <td>2011-02-01</td>\n",
       "      <td>218819.159530</td>\n",
       "      <td>48.7</td>\n",
       "    </tr>\n",
       "    <tr>\n",
       "      <th>2</th>\n",
       "      <td>2011-03-01</td>\n",
       "      <td>343441.973030</td>\n",
       "      <td>61.8</td>\n",
       "    </tr>\n",
       "    <tr>\n",
       "      <th>3</th>\n",
       "      <td>2011-04-01</td>\n",
       "      <td>202053.382820</td>\n",
       "      <td>70.3</td>\n",
       "    </tr>\n",
       "    <tr>\n",
       "      <th>4</th>\n",
       "      <td>2011-05-01</td>\n",
       "      <td>472446.061500</td>\n",
       "      <td>74.1</td>\n",
       "    </tr>\n",
       "    <tr>\n",
       "      <th>...</th>\n",
       "      <td>...</td>\n",
       "      <td>...</td>\n",
       "      <td>...</td>\n",
       "    </tr>\n",
       "    <tr>\n",
       "      <th>115</th>\n",
       "      <td>2020-08-01</td>\n",
       "      <td>721716.604984</td>\n",
       "      <td>84.3</td>\n",
       "    </tr>\n",
       "    <tr>\n",
       "      <th>116</th>\n",
       "      <td>2020-09-01</td>\n",
       "      <td>651271.628603</td>\n",
       "      <td>74.0</td>\n",
       "    </tr>\n",
       "    <tr>\n",
       "      <th>117</th>\n",
       "      <td>2020-10-01</td>\n",
       "      <td>445206.272739</td>\n",
       "      <td>65.9</td>\n",
       "    </tr>\n",
       "    <tr>\n",
       "      <th>118</th>\n",
       "      <td>2020-11-01</td>\n",
       "      <td>347772.901358</td>\n",
       "      <td>60.6</td>\n",
       "    </tr>\n",
       "    <tr>\n",
       "      <th>119</th>\n",
       "      <td>2020-12-01</td>\n",
       "      <td>325144.720938</td>\n",
       "      <td>48.4</td>\n",
       "    </tr>\n",
       "  </tbody>\n",
       "</table>\n",
       "<p>120 rows × 3 columns</p>\n",
       "</div>"
      ],
      "text/plain": [
       "          date           NGas  Temp\n",
       "0   2011-01-01  248086.363990  45.0\n",
       "1   2011-02-01  218819.159530  48.7\n",
       "2   2011-03-01  343441.973030  61.8\n",
       "3   2011-04-01  202053.382820  70.3\n",
       "4   2011-05-01  472446.061500  74.1\n",
       "..         ...            ...   ...\n",
       "115 2020-08-01  721716.604984  84.3\n",
       "116 2020-09-01  651271.628603  74.0\n",
       "117 2020-10-01  445206.272739  65.9\n",
       "118 2020-11-01  347772.901358  60.6\n",
       "119 2020-12-01  325144.720938  48.4\n",
       "\n",
       "[120 rows x 3 columns]"
      ]
     },
     "execution_count": 371,
     "metadata": {},
     "output_type": "execute_result"
    }
   ],
   "source": [
    "df_full"
   ]
  },
  {
   "cell_type": "code",
   "execution_count": 372,
   "metadata": {},
   "outputs": [
    {
     "data": {
      "text/plain": [
       "[<matplotlib.lines.Line2D at 0x7fab99b9f0a0>]"
      ]
     },
     "execution_count": 372,
     "metadata": {},
     "output_type": "execute_result"
    },
    {
     "data": {
      "image/png": "[encoded data removed]",
      "text/plain": [
       "<Figure size 432x288 with 1 Axes>"
      ]
     },
     "metadata": {
      "needs_background": "light"
     },
     "output_type": "display_data"
    }
   ],
   "source": [
    "plt.plot(df_full['NGas'])"
   ]
  },
  {
   "cell_type": "markdown",
   "metadata": {},
   "source": [
    "### Because Natural Gas and Temperautre are on such different scales, let's apply a standard scaler"
   ]
  },
  {
   "cell_type": "code",
   "execution_count": 373,
   "metadata": {},
   "outputs": [],
   "source": [
    "cols = list(df_full)[1:3]"
   ]
  },
  {
   "cell_type": "code",
   "execution_count": 374,
   "metadata": {},
   "outputs": [],
   "source": [
    "df_train = df_full[cols].astype(float)"
   ]
  },
  {
   "cell_type": "code",
   "execution_count": 375,
   "metadata": {},
   "outputs": [],
   "source": [
    "sc = StandardScaler()\n",
    "sc = sc.fit(df_train)\n",
    "df_sc = sc.transform(df_train)"
   ]
  },
  {
   "cell_type": "markdown",
   "metadata": {},
   "source": [
    "### Create our train and prediction series"
   ]
  },
  {
   "cell_type": "code",
   "execution_count": 376,
   "metadata": {},
   "outputs": [
    {
     "name": "stdout",
     "output_type": "stream",
     "text": [
      "trainX shape == (106, 14, 2).\n",
      "trainY shape == (106, 1).\n"
     ]
    }
   ],
   "source": [
    "trainX = []\n",
    "trainY = []\n",
    "\n",
    "n_future = 1\n",
    "n_past = 14\n",
    "\n",
    "for i in range(n_past, len(df_sc) - n_future +1):\n",
    "    trainX.append(df_sc[i - n_past:i, 0:df_train.shape[1]])\n",
    "    trainY.append(df_sc[i + n_future - 1:i + n_future, 0])\n",
    "    \n",
    "trainX, trainY = np.array(trainX), np.array(trainY)\n",
    "\n",
    "print('trainX shape == {}.'.format(trainX.shape))\n",
    "print('trainY shape == {}.'.format(trainY.shape))"
   ]
  },
  {
   "cell_type": "code",
   "execution_count": 377,
   "metadata": {},
   "outputs": [
    {
     "data": {
      "text/plain": [
       "array([[[-1.12942114, -1.61420448],\n",
       "        [-1.32527477, -1.33516738],\n",
       "        [-0.49130952, -0.34722522],\n",
       "        ...,\n",
       "        [-1.63399511, -1.5312475 ],\n",
       "        [-1.24621354, -1.20696114],\n",
       "        [-0.49236218, -1.10137954]],\n",
       "\n",
       "       [[-1.32527477, -1.33516738],\n",
       "        [-0.49130952, -0.34722522],\n",
       "        [-1.43746992,  0.29380595],\n",
       "        ...,\n",
       "        [-1.24621354, -1.20696114],\n",
       "        [-0.49236218, -1.10137954],\n",
       "        [-1.24524301, -0.24164361]],\n",
       "\n",
       "       [[-0.49130952, -0.34722522],\n",
       "        [-1.43746992,  0.29380595],\n",
       "        [ 0.37197484,  0.5803846 ],\n",
       "        ...,\n",
       "        [-0.49236218, -1.10137954],\n",
       "        [-1.24524301, -0.24164361],\n",
       "        [-0.58927017,  0.28626441]],\n",
       "\n",
       "       ...,\n",
       "\n",
       "       [[ 2.21405282,  1.47028669],\n",
       "        [ 2.22217694,  1.13845879],\n",
       "        [ 1.01714583, -0.09081275],\n",
       "        ...,\n",
       "        [ 1.675883  ,  1.41749589],\n",
       "        [ 2.04007208,  1.349622  ],\n",
       "        [ 1.5686603 ,  0.57284305]],\n",
       "\n",
       "       [[ 2.22217694,  1.13845879],\n",
       "        [ 1.01714583, -0.09081275],\n",
       "        [ 0.03531375, -0.99579793],\n",
       "        ...,\n",
       "        [ 2.04007208,  1.349622  ],\n",
       "        [ 1.5686603 ,  0.57284305],\n",
       "        [ 0.1896885 , -0.03802195]],\n",
       "\n",
       "       [[ 1.01714583, -0.09081275],\n",
       "        [ 0.03531375, -0.99579793],\n",
       "        [-0.27373149, -1.18433651],\n",
       "        ...,\n",
       "        [ 1.5686603 ,  0.57284305],\n",
       "        [ 0.1896885 , -0.03802195],\n",
       "        [-0.46232732, -0.43772374]]])"
      ]
     },
     "execution_count": 377,
     "metadata": {},
     "output_type": "execute_result"
    }
   ],
   "source": [
    "trainX"
   ]
  },
  {
   "cell_type": "markdown",
   "metadata": {},
   "source": [
    "### Instantiate and Fit our Model"
   ]
  },
  {
   "cell_type": "code",
   "execution_count": 343,
   "metadata": {},
   "outputs": [
    {
     "name": "stdout",
     "output_type": "stream",
     "text": [
      "Model: \"sequential_2\"\n",
      "_________________________________________________________________\n",
      "Layer (type)                 Output Shape              Param #   \n",
      "=================================================================\n",
      "lstm_4 (LSTM)                (None, 14, 64)            17152     \n",
      "_________________________________________________________________\n",
      "lstm_5 (LSTM)                (None, 32)                12416     \n",
      "_________________________________________________________________\n",
      "dropout_2 (Dropout)          (None, 32)                0         \n",
      "_________________________________________________________________\n",
      "dense_2 (Dense)              (None, 1)                 33        \n",
      "=================================================================\n",
      "Total params: 29,601\n",
      "Trainable params: 29,601\n",
      "Non-trainable params: 0\n",
      "_________________________________________________________________\n"
     ]
    }
   ],
   "source": [
    "model = Sequential()\n",
    "model.add(LSTM(64, activation='relu', input_shape=(trainX.shape[1], trainX.shape[2]), return_sequences=True))\n",
    "model.add(LSTM(32, activation='relu', return_sequences=False))\n",
    "model.add(Dropout(0.2))\n",
    "model.add(Dense(trainY.shape[1]))\n",
    "\n",
    "model.compile(optimizer='adam', loss='mse')\n",
    "model.summary()"
   ]
  },
  {
   "cell_type": "code",
   "execution_count": 344,
   "metadata": {},
   "outputs": [
    {
     "name": "stdout",
     "output_type": "stream",
     "text": [
      "Epoch 1/10\n",
      "6/6 [==============================] - 3s 101ms/step - loss: 0.8167 - val_loss: 1.2251\n",
      "Epoch 2/10\n",
      "6/6 [==============================] - 0s 19ms/step - loss: 0.9753 - val_loss: 1.2173\n",
      "Epoch 3/10\n",
      "6/6 [==============================] - 0s 22ms/step - loss: 0.9069 - val_loss: 1.2063\n",
      "Epoch 4/10\n",
      "6/6 [==============================] - 0s 25ms/step - loss: 0.8934 - val_loss: 1.1874\n",
      "Epoch 5/10\n",
      "6/6 [==============================] - 0s 21ms/step - loss: 0.9483 - val_loss: 1.1589\n",
      "Epoch 6/10\n",
      "6/6 [==============================] - 0s 22ms/step - loss: 0.8373 - val_loss: 1.1179\n",
      "Epoch 7/10\n",
      "6/6 [==============================] - 0s 19ms/step - loss: 0.7426 - val_loss: 1.0042\n",
      "Epoch 8/10\n",
      "6/6 [==============================] - 0s 19ms/step - loss: 0.7309 - val_loss: 0.7979\n",
      "Epoch 9/10\n",
      "6/6 [==============================] - 0s 21ms/step - loss: 0.6509 - val_loss: 0.4999\n",
      "Epoch 10/10\n",
      "6/6 [==============================] - 0s 29ms/step - loss: 0.5163 - val_loss: 0.6491\n"
     ]
    }
   ],
   "source": [
    "history= model.fit(trainX, trainY, epochs=10, batch_size=16, validation_split=0.1, verbose=1)"
   ]
  },
  {
   "cell_type": "code",
   "execution_count": 345,
   "metadata": {},
   "outputs": [
    {
     "data": {
      "text/plain": [
       "[<matplotlib.lines.Line2D at 0x7fab94ab5ac0>]"
      ]
     },
     "execution_count": 345,
     "metadata": {},
     "output_type": "execute_result"
    },
    {
     "data": {
      "image/png": "[encoded data removed]",
      "text/plain": [
       "<Figure size 432x288 with 1 Axes>"
      ]
     },
     "metadata": {
      "needs_background": "light"
     },
     "output_type": "display_data"
    }
   ],
   "source": [
    "plt.plot(history.history['loss'], label='Training loss')\n",
    "plt.plot(history.history['val_loss'], label='Validation Loss')"
   ]
  },
  {
   "cell_type": "code",
   "execution_count": 346,
   "metadata": {},
   "outputs": [],
   "source": [
    "n_forecast = 24  # period length of forecasts - in this case, months\n",
    "\n",
    "# create a list of dates based on training dates, start at first training date and create list of length n_forecast\n",
    "forecast_period_dates = pd.date_range(start=list(train_dates)[-1], periods=n_forecast, freq='MS').tolist()   "
   ]
  },
  {
   "cell_type": "code",
   "execution_count": 347,
   "metadata": {},
   "outputs": [
    {
     "data": {
      "text/plain": [
       "[Timestamp('2020-12-01 00:00:00', freq='MS'),\n",
       " Timestamp('2021-01-01 00:00:00', freq='MS'),\n",
       " Timestamp('2021-02-01 00:00:00', freq='MS'),\n",
       " Timestamp('2021-03-01 00:00:00', freq='MS'),\n",
       " Timestamp('2021-04-01 00:00:00', freq='MS'),\n",
       " Timestamp('2021-05-01 00:00:00', freq='MS'),\n",
       " Timestamp('2021-06-01 00:00:00', freq='MS'),\n",
       " Timestamp('2021-07-01 00:00:00', freq='MS'),\n",
       " Timestamp('2021-08-01 00:00:00', freq='MS'),\n",
       " Timestamp('2021-09-01 00:00:00', freq='MS'),\n",
       " Timestamp('2021-10-01 00:00:00', freq='MS'),\n",
       " Timestamp('2021-11-01 00:00:00', freq='MS'),\n",
       " Timestamp('2021-12-01 00:00:00', freq='MS'),\n",
       " Timestamp('2022-01-01 00:00:00', freq='MS'),\n",
       " Timestamp('2022-02-01 00:00:00', freq='MS'),\n",
       " Timestamp('2022-03-01 00:00:00', freq='MS'),\n",
       " Timestamp('2022-04-01 00:00:00', freq='MS'),\n",
       " Timestamp('2022-05-01 00:00:00', freq='MS'),\n",
       " Timestamp('2022-06-01 00:00:00', freq='MS'),\n",
       " Timestamp('2022-07-01 00:00:00', freq='MS'),\n",
       " Timestamp('2022-08-01 00:00:00', freq='MS'),\n",
       " Timestamp('2022-09-01 00:00:00', freq='MS'),\n",
       " Timestamp('2022-10-01 00:00:00', freq='MS'),\n",
       " Timestamp('2022-11-01 00:00:00', freq='MS')]"
      ]
     },
     "execution_count": 347,
     "metadata": {},
     "output_type": "execute_result"
    }
   ],
   "source": [
    "forecast_period_dates"
   ]
  },
  {
   "cell_type": "code",
   "execution_count": 348,
   "metadata": {},
   "outputs": [],
   "source": [
    "# make predictions on our model based on the training data. Use  \n",
    "forecast = model.predict(trainX[-n_forecast:])"
   ]
  },
  {
   "cell_type": "code",
   "execution_count": 349,
   "metadata": {},
   "outputs": [],
   "source": [
    "forecast_copies = np.repeat(forecast, df_train.shape[1], axis=-1)\n"
   ]
  },
  {
   "cell_type": "code",
   "execution_count": 350,
   "metadata": {},
   "outputs": [],
   "source": [
    "y_pred_future = sc.inverse_transform(forecast_copies)[:,0]  # Take"
   ]
  },
  {
   "cell_type": "code",
   "execution_count": 351,
   "metadata": {},
   "outputs": [],
   "source": [
    "forecast_dates = []\n",
    "for time_i in forecast_period_dates:\n",
    "    forecast_dates.append(time_i.date())"
   ]
  },
  {
   "cell_type": "code",
   "execution_count": 352,
   "metadata": {},
   "outputs": [
    {
     "data": {
      "text/plain": [
       "24"
      ]
     },
     "execution_count": 352,
     "metadata": {},
     "output_type": "execute_result"
    }
   ],
   "source": [
    "len(y_pred_future)"
   ]
  },
  {
   "cell_type": "code",
   "execution_count": 353,
   "metadata": {},
   "outputs": [],
   "source": [
    "df_forecast = pd.DataFrame({'Date':np.array(forecast_dates), 'NGas':y_pred_future})\n",
    "df_forecast['Date']=pd.to_datetime(df_forecast['Date'])"
   ]
  },
  {
   "cell_type": "code",
   "execution_count": 354,
   "metadata": {},
   "outputs": [],
   "source": [
    "original = pd.DataFrame(df_full[['date', 'NGas']])\n"
   ]
  },
  {
   "cell_type": "code",
   "execution_count": 355,
   "metadata": {},
   "outputs": [
    {
     "data": {
      "image/png": "[encoded data removed]",
      "text/plain": [
       "<Figure size 864x648 with 1 Axes>"
      ]
     },
     "metadata": {
      "needs_background": "light"
     },
     "output_type": "display_data"
    }
   ],
   "source": [
    "plt.figure(figsize=(12,9))\n",
    "sns.lineplot(original['date'], original['NGas']);\n",
    "sns.lineplot(df_forecast['Date'], df_forecast['NGas']);"
   ]
  },
  {
   "cell_type": "code",
   "execution_count": null,
   "metadata": {},
   "outputs": [],
   "source": []
  },
  {
   "cell_type": "code",
   "execution_count": null,
   "metadata": {},
   "outputs": [],
   "source": []
  },
  {
   "cell_type": "code",
   "execution_count": null,
   "metadata": {},
   "outputs": [],
   "source": []
  }
 ],
 "metadata": {
  "kernelspec": {
   "display_name": "Python 3",
   "language": "python",
   "name": "python3"
  },
  "language_info": {
   "codemirror_mode": {
    "name": "ipython",
    "version": 3
   },
   "file_extension": ".py",
   "mimetype": "text/x-python",
   "name": "python",
   "nbconvert_exporter": "python",
   "pygments_lexer": "ipython3",
   "version": "3.8.5"
  }
 },
 "nbformat": 4,
 "nbformat_minor": 4
}
